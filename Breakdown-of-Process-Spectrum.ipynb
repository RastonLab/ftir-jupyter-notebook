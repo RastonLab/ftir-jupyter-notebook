{
 "cells": [
  {
   "cell_type": "markdown",
   "metadata": {},
   "source": [
    "# Breakdown of `process_spectrum`\n",
    "Note: Currently, all values are hard coded for example purposes. Once this code is fully integrated, the values listed below will be provided by the user:\n",
    "- `source`\n",
    "- `min_wavnum`\n",
    "- `max_wavenum`\n",
    "- `beamsplitter`\n",
    "- `cell_window`\n",
    "- `detector`"
   ]
  },
  {
   "cell_type": "markdown",
   "metadata": {},
   "source": [
    "## Helper Functions\n",
    "The following functions are crutical to the execution of the program. However they are not directly involved in the processing of spectra."
   ]
  },
  {
   "cell_type": "markdown",
   "metadata": {},
   "source": [
    "### Imports"
   ]
  },
  {
   "cell_type": "code",
   "execution_count": 134,
   "metadata": {},
   "outputs": [],
   "source": [
    "import math, sys\n",
    "from decimal import Decimal\n",
    "from radis import calc_spectrum\n",
    "from warnings import catch_warnings\n",
    "#NOTE for graphing\n",
    "import numpy as np \n",
    "import matplotlib.pyplot as plt"
   ]
  },
  {
   "cell_type": "markdown",
   "metadata": {},
   "source": [
    "### Error Message\n",
    "Called in cases where the user input is not vaild"
   ]
  },
  {
   "cell_type": "code",
   "execution_count": 135,
   "metadata": {},
   "outputs": [],
   "source": [
    "# function presents error and usage to user, then quits\n",
    "def __error(error_text):\n",
    "  print(error_text)\n",
    "  print(\"  usage: python3 generate_spectra.py <source (t or g)> <min-wavenumber (cm^-1)>  <max-wavenumber (cm^-1)> <beamsplitter AR_ZnSe or AR_CaF2>\" +\\\n",
    "    \"<cell_window KBr or CaF2 or ZnSe> <detector MCT or InSb>\")\n",
    "  quit()"
   ]
  },
  {
   "cell_type": "markdown",
   "metadata": {},
   "source": [
    "### Wave number to Wavelength Conversion"
   ]
  },
  {
   "cell_type": "code",
   "execution_count": 136,
   "metadata": {},
   "outputs": [],
   "source": [
    "# convert wavenumber (cm^-1) to wavelength (nm) (10000000 / wavenumber)\n",
    "def __convert_wavenum_wavelen(min_wavenum, max_wavenum):\n",
    "  min_wavelen = math.floor(10000000 / max_wavenum)\n",
    "  max_wavelen = math.ceil(10000000 / min_wavenum)\n",
    "  return min_wavelen, max_wavelen"
   ]
  },
  {
   "cell_type": "markdown",
   "metadata": {},
   "source": [
    "### File I/O Functions"
   ]
  },
  {
   "cell_type": "code",
   "execution_count": 137,
   "metadata": {},
   "outputs": [],
   "source": [
    "def __loadData(inputFile):\n",
    "\n",
    "    try:\n",
    "        file = open(inputFile, 'r')\n",
    "\n",
    "    # File not found\n",
    "    except:\n",
    "        print(f'File not found: {inputFile}')\n",
    "        return\n",
    "\n",
    "    data = {}\n",
    "\n",
    "    for line in file:\n",
    "        if \"#\" not in line:\n",
    "            (key, val) = line.split()\n",
    "            data[float(key)] = float(val)\n",
    "\n",
    "    file.close()\n",
    "\n",
    "    return data\n",
    "\n",
    "def __exportData(data, fileName):\n",
    "\n",
    "    # open file and start at the begining\n",
    "    file = open(fileName, 'w')\n",
    "\n",
    "    for key in data:\n",
    "        line = f'{key} {data[key]}\\n'\n",
    "        file.write(line)\n",
    "    \n",
    "    file.close()\n",
    "    \n",
    "    return True"
   ]
  },
  {
   "cell_type": "markdown",
   "metadata": {},
   "source": [
    "## Taking in User Input and Verifying it\n",
    "This step of the process takes in the user input and makes sure what they entered is a value that our program can accept. If the user enters in an unusable parameter or too few paramters, an error message will appear and the program will be stopped.\n",
    "\n",
    "Feel free to change the variables!"
   ]
  },
  {
   "cell_type": "code",
   "execution_count": 138,
   "metadata": {},
   "outputs": [
    {
     "name": "stdout",
     "output_type": "stream",
     "text": [
      "source: t   source_temp: 3100   min_wavelen: 800   max_wavelen: 25000   beamspliter: AR_ZnSe   cell_window: KBr   detector: InSb\n"
     ]
    }
   ],
   "source": [
    "# check number of args\n",
    "if len(sys.argv) < 7:\n",
    "    __error(\"  not enought command line arguments\")\n",
    "\n",
    "# Change us!\n",
    "source = 't'\n",
    "min_wavenum = 400\n",
    "max_wavenum = 12500\n",
    "beamsplitter = 'AR_ZnSe'\n",
    "cell_window = 'KBr'\n",
    "detector = 'InSb'\n",
    "\n",
    "# check if source is correct (t or g)\n",
    "if (source != 't') and (source != 'g'):\n",
    "    __error(\"  source needs to be <t> or <g>. provided source: %s\"%(source))\n",
    "\n",
    "# set source_temp based on source input\n",
    "if source == 'g':\n",
    "    source_temp = 1700\n",
    "elif source == 't':\n",
    "    source_temp = 3100\n",
    "else:\n",
    "    __error(\"  source needs to be <t> or <g>. provided source: %s\"%(source))\n",
    "\n",
    "# check if wavenumbers are correct\n",
    "if min_wavenum < 400:\n",
    "    __error(\"  min wavenumber is out of range (400 - 12500). provided min: %s\"%(min_wavenum))\n",
    "elif min_wavenum > 12500:\n",
    "    __error(\"  max wavenumber is out of range (400 - 12500). provided max: %s\"%(max_wavenum))\n",
    "elif min_wavenum > max_wavenum:\n",
    "    __error(\"  min wavenumber is greater than max wavenumber. provided min: %s  provided max: %s\"%(min_wavenum, max_wavenum))\n",
    "elif min_wavenum == max_wavenum:\n",
    "    __error(\"  min wavenumber is equivalent to max wavenumber. provided min: %s  provided max: %s\"%(min_wavenum, max_wavenum))\n",
    "\n",
    "# convert wavenumbers to wavelengths (cm^-1 --> nm)\n",
    "min_wavelen, max_wavelen = __convert_wavenum_wavelen(min_wavenum, max_wavenum)\n",
    "\n",
    "# check if wavelengths are correct\n",
    "if min_wavelen < 800:\n",
    "    __error(\"  min wavelength is out of range (800 - 25000). provided min %s\"%(min_wavelen))\n",
    "elif max_wavelen > 25000:\n",
    "    __error(\"  max wavelength is out of range (800 - 25000). provided max %s\"%(max_wavelen))\n",
    "elif min_wavelen > max_wavelen:\n",
    "    __error(\"  min wavelength is greater than max wavelength. provided min: %s  provided max: %s\"%(min_wavelen, max_wavelen))\n",
    "elif min_wavelen == max_wavelen:\n",
    "    __error(\"  min wavelength is equivalent to max wavelength. provided min: %s  provided max: %s\"%(min_wavelen, max_wavelen))\n",
    "\n",
    "# check if beamsplitter is vaild\n",
    "if beamsplitter != \"AR_ZnSe\" and beamsplitter != \"AR_CaF2\":\n",
    "        __error(\" given beamsplitter option is not a vaild option\\n Valid Options:  AR_ZnSe  AR_CaF2\")\n",
    "\n",
    "# check if cell_window is vaild\n",
    "if cell_window != \"KBr\" and cell_window != \"CaF2\" and cell_window != \"ZnSe\":\n",
    "        __error(\" given cell window option is not a vaild option\\n Valid Options:  KBr  CaF2  ZnSe\")\n",
    "\n",
    "# check if detector is vaild\n",
    "if detector != \"MCT\" and detector != \"InSb\":\n",
    "        __error(\" given detector option is not a vaild option\\n Valid Options:  MCTs  InSb\")\n",
    "\n",
    "# output verified params to console as self-check before calc_spectrum()\n",
    "print(\"source: %s   source_temp: %s   min_wavelen: %s   max_wavelen: %s   beamspliter: %s   cell_window: %s   detector: %s\"\\\n",
    "    %(source, source_temp, min_wavelen, max_wavelen, beamsplitter, cell_window, detector))"
   ]
  },
  {
   "cell_type": "markdown",
   "metadata": {},
   "source": [
    "## Step A: Generating the transmission spectrum (ideal spectrum)"
   ]
  },
  {
   "cell_type": "code",
   "execution_count": 139,
   "metadata": {},
   "outputs": [],
   "source": [
    "# ----- a.) transmission spectrum of gas sample -----\n",
    "# https://radis.readthedocs.io/en/latest/source/radis.lbl.calc.html#radis.lbl.calc.calc_spectrum\n",
    "s = calc_spectrum(min_wavelen,   # wmin minimum wavelength (nm - 800)\n",
    "    max_wavelen,   # wmax maximum wavelength (nm - 250000)\n",
    "    wunit='nm',\n",
    "    molecule='CO',\n",
    "    isotope='1,2,3',\n",
    "    pressure=0.01,   # Bar\n",
    "    Tgas=294.15,       # K\n",
    "    path_length=10,    # cm\n",
    "    wstep=0.5,         # cm^-1\n",
    "    verbose=False,     # hides HITRAN output\n",
    "    databank='hitran',\n",
    "    warnings={'AccuracyError':'ignore'},\n",
    "    )\n",
    "\n",
    "# save\n",
    "# https://radis.readthedocs.io/en/latest/spectrum/spectrum.html#label-spectrum-store\n",
    "s.savetxt('calc_spectrum-%s-%s'%(min_wavelen, max_wavelen), 'transmittance_noslit', wunit='nm')\n"
   ]
  },
  {
   "cell_type": "markdown",
   "metadata": {},
   "source": [
    "## Step B: Blackbody Spectrum of the Source\n"
   ]
  },
  {
   "cell_type": "markdown",
   "metadata": {},
   "source": [
    "### The `__sPlanck` Function\n",
    "This function uses Planck's Law to create a Planck Spectrum. While the Planck Spectrum is being created, it is being multiplied into the Ideal Spectrum."
   ]
  },
  {
   "cell_type": "code",
   "execution_count": 140,
   "metadata": {},
   "outputs": [],
   "source": [
    "def __sPlanck(spectrum, temp):\n",
    "    H = 6.62606957e-34\n",
    "    C = 2.99792458e8\n",
    "    K_B = 1.3806488e-23\n",
    "\n",
    "    if spectrum == None:\n",
    "        return False\n",
    "\n",
    "    for x in spectrum:\n",
    "        x2 = x * (10 ** -9)\n",
    "        p = ((0.2* H * (C ** 2)) / ((x2 ** 4) * x )) * (1 / (math.exp((H * C) / (x2 * K_B * temp)) - 1))\n",
    "        spectrum[x] = spectrum[x] * p\n",
    "\n",
    "    return spectrum"
   ]
  },
  {
   "cell_type": "markdown",
   "metadata": {},
   "source": [
    "### The use of `__sPlanck` in the `process_spectrum` function\n",
    "First _loadData is called to process the output of calc_spectrum and format it in a way that the rest of the program can use. The `__sPlanck` is called and given the Ideal Spectrum and a temperature based on the user's `source` input."
   ]
  },
  {
   "cell_type": "code",
   "execution_count": 141,
   "metadata": {},
   "outputs": [],
   "source": [
    "# ----- b.) blackbody spectrum of source -----\n",
    "spectrum = __loadData('calc_spectrum-%s-%s'%(min_wavelen, max_wavelen))\n",
    "\n",
    "spectrum = __sPlanck(spectrum, source_temp)"
   ]
  },
  {
   "cell_type": "code",
   "execution_count": 142,
   "metadata": {},
   "outputs": [
    {
     "name": "stdout",
     "output_type": "stream",
     "text": [
      "The Spectrum after Step B\n"
     ]
    },
    {
     "data": {
      "image/png": "[encoded data removed]",
      "text/plain": [
       "<Figure size 432x288 with 1 Axes>"
      ]
     },
     "metadata": {
      "needs_background": "light"
     },
     "output_type": "display_data"
    }
   ],
   "source": [
    "xs = []\n",
    "ys = []\n",
    "for key in spectrum:\n",
    "    xs.append(float(key))\n",
    "    ys.append(float(spectrum[key]))\n",
    "plt.plot(np.array(xs), np.array(ys), 'blue')\n",
    "print(\"The Spectrum after Step B\")\n",
    "plt.show()"
   ]
  },
  {
   "cell_type": "markdown",
   "metadata": {},
   "source": [
    "## Step C: Transmission Spectrum of Windows/Beamsplitter\n",
    "At this point in the program, the user input affects how the program is executed. For example, if the user inputed \"AR_ZnSe\" for the beamsplitter, then `__AR_ZnSe` will be excuted. If they input \"AR_CaF2\", then `__AR_CaF2` will be executed. The same holds true whenever there is an choice in steps C and D."
   ]
  },
  {
   "cell_type": "markdown",
   "metadata": {},
   "source": [
    "### The Beamsplitter\n"
   ]
  },
  {
   "cell_type": "markdown",
   "metadata": {},
   "source": [
    "#### The `__AR_ZnSe` Function"
   ]
  },
  {
   "cell_type": "code",
   "execution_count": 143,
   "metadata": {},
   "outputs": [],
   "source": [
    "def __AR_ZnSe(data):\n",
    "    \n",
    "    if data == None:\n",
    "        return False\n",
    "\n",
    "    for x in data:\n",
    "        x_um = x / 1000\n",
    "        datapoint = (0.82609) / ((1 + ((34.63971 / x_um) ** -8.56269)) ** 186.34792) + -0.47 / \\\n",
    "            (0.55* math.sqrt(math.pi / (4 * math.log(2)))) * math.exp(-4 * math.log(2) * ((x_um- 1.47) ** 2) / (0.55 ** 2)) + -0.03456 / \\\n",
    "                (0.4 * math.sqrt(math.pi / (4 * math.log(2)))) * math.exp(-4 * math.log(2) * ((x_um- 2.88) ** 2) / (0.4 ** 2)) + -0.009 / \\\n",
    "                    (0.3 * math.sqrt(math.pi / (4 * math.log(2)))) * math.exp(-4 * math.log(2) * ((x_um- 6.16) ** 2) / (0.3 ** 2)) + -0.09 / \\\n",
    "                        (1 * math.sqrt(math.pi / (4 * math.log(2)))) * math.exp(-4 * math.log(2) * ((x_um- 16.2) ** 2) / (1 ** 2)) + -0.08 / \\\n",
    "                            (1 * math.sqrt(math.pi / (4 * math.log(2)))) * math.exp(-4 * math.log(2) * ((x_um- 17.4) ** 2) / (1 ** 2)) + 1.12 / \\\n",
    "                                (8 * math.sqrt(math.pi /(4 * math.log(2)))) * math.exp(-4 * math.log(2) * ((x_um- 9.5) ** 2) / (8 ** 2)) + 0.11546 / \\\n",
    "                                    (2 * math.sqrt(math.pi / (4 * math.log(2)))) * math.exp(-4 * math.log(2) * ((x_um- 4.9) ** 2) / (2 ** 2)) + 0.21751 / \\\n",
    "                                        (2 * math.sqrt(math.pi / (4 * math.log(2)))) * math.exp(-4 * math.log(2) * ((x_um- 2.6) ** 2) / (2 ** 2)) + -0.05 / \\\n",
    "                                            (0.07 * math.sqrt(math.pi / (4 * math.log(2)))) * math.exp(-4 * math.log(2) * ((x_um- 0.8) ** 2) / (0.07 ** 2))\n",
    "\n",
    "        data[x] = datapoint * data[x]\n",
    "\n",
    "    return data"
   ]
  },
  {
   "cell_type": "markdown",
   "metadata": {},
   "source": [
    "#### The `__AR_CaF2` Function"
   ]
  },
  {
   "cell_type": "code",
   "execution_count": 144,
   "metadata": {},
   "outputs": [],
   "source": [
    "def __AR_CaF2(data):\n",
    "  \n",
    "\n",
    "    if data == None:\n",
    "        return False\n",
    "\n",
    "    for x in data:\n",
    "        x_um = x / 1000\n",
    "        datapoint = (0.9795) / ((1 + ((18.77617/ x_um) ** -6.94246) ) ** 91.98745) + -0.06 / (0.08 * math.sqrt(math.pi /(4 * math.log(2)))) * \\\n",
    "            math.exp(-4 * math.log(2) * (( x_um- 0.76) ** 2) / (0.08 ** 2))+-0.06 / (0.2 * math.sqrt(math.pi /(4 * math.log(2)))) * \\\n",
    "                math.exp(-4 * math.log(2) * ( x_um-1.06) ** 2/0.20 ** 2) + -0.6 / (3.0 * math.sqrt(math.pi /(4 * math.log(2)))) * \\\n",
    "                    math.exp(-4 * math.log(2) * (( x_um-4.85) ** 2) / (3.0 ** 2)) + -0.35 / (1.0 * math.sqrt(math.pi /(4 * math.log(2)))) * \\\n",
    "                        math.exp(-4 * math.log(2) * (( x_um- 9.40) ** 2) / (1.00 ** 2)) + 0.05 / (0.8 * math.sqrt(math.pi / (4 * math.log(2)))) * \\\n",
    "                            math.exp(-4 * math.log(2) * (( x_um- 2.60) ** 2) / (0.8 ** 2)) + 0.04 / (0.5 * math.sqrt(math.pi / (4 * math.log(2)))) * \\\n",
    "                                math.exp(-4 * math.log(2) * (( x_um- 7.75) ** 2) / (0.50 ** 2)) + -0.01 / (0.6 * math.sqrt(math.pi / (4 * math.log(2)))) * \\\n",
    "                                    math.exp(-4 * math.log(2) * (( x_um- 6.55) ** 2) / (0.6 ** 2)) + 0.01 / (0.5 * math.sqrt(math.pi /(4 * math.log(2)))) * \\\n",
    "                                        math.exp(-4 * math.log(2) * (( x_um- 1.82) ** 2) / (0.5 ** 2))\n",
    "        data[x] = datapoint * data[x]\n",
    "    \n",
    "    return data"
   ]
  },
  {
   "cell_type": "markdown",
   "metadata": {},
   "source": [
    "#### The Beamsplitter Functions in `process_spectrum`"
   ]
  },
  {
   "cell_type": "code",
   "execution_count": 145,
   "metadata": {},
   "outputs": [],
   "source": [
    "# Beamsplitter\n",
    "if beamsplitter == \"AR_ZnSe\":\n",
    "    spectrum = __AR_ZnSe(spectrum)\n",
    "elif beamsplitter == \"AR_CaF2\": \n",
    "    spectrum = __AR_CaF2(spectrum)"
   ]
  },
  {
   "cell_type": "code",
   "execution_count": 146,
   "metadata": {},
   "outputs": [
    {
     "name": "stdout",
     "output_type": "stream",
     "text": [
      "The Spectrum after Step C: Beamsplitter\n"
     ]
    },
    {
     "data": {
      "image/png": "[encoded data removed]",
      "text/plain": [
       "<Figure size 432x288 with 1 Axes>"
      ]
     },
     "metadata": {
      "needs_background": "light"
     },
     "output_type": "display_data"
    }
   ],
   "source": [
    "xs = []\n",
    "ys = []\n",
    "for key in spectrum:\n",
    "    xs.append(float(key))\n",
    "    ys.append(float(spectrum[key]))\n",
    "plt.plot(np.array(xs), np.array(ys), 'blue')\n",
    "print(\"The Spectrum after Step C: Beamsplitter\")\n",
    "plt.show()"
   ]
  },
  {
   "cell_type": "markdown",
   "metadata": {},
   "source": [
    "### The Cell Windows"
   ]
  },
  {
   "cell_type": "markdown",
   "metadata": {},
   "source": [
    "#### The `__CaF2` Function"
   ]
  },
  {
   "cell_type": "code",
   "execution_count": 148,
   "metadata": {},
   "outputs": [],
   "source": [
    "def __CaF2(data):  \n",
    "\n",
    "    if data == None:\n",
    "        return False\n",
    "\n",
    "    for x in data:\n",
    "        datapoint = (0.93091) / (1 + (11.12929/ (x / 1000)) ** -12.43933 ) ** 4.32574\n",
    "        data[x] = datapoint * data[x]\n",
    "    \n",
    "    return data"
   ]
  },
  {
   "cell_type": "markdown",
   "metadata": {},
   "source": [
    "#### The `__ZnSe` Function"
   ]
  },
  {
   "cell_type": "code",
   "execution_count": 149,
   "metadata": {},
   "outputs": [],
   "source": [
    "def __ZnSe(data):  \n",
    "\n",
    "    if data == None:\n",
    "        return False\n",
    "\n",
    "    for x in data:\n",
    "        x_um = x / 1000\n",
    "        datapoint = (0.71015) / ((1 + (20.99353 / x_um) ** -19.31355 ) ** 1.44348) + -0.13265 / (2.25051 * math.sqrt(math.pi /(4 * math.log(2)))) * \\\n",
    "            math.exp(-4 * math.log(2) * ((x_um - 16.75) ** 2) / (2.25051 ** 2))\n",
    "        data[x] = datapoint * data[x]\n",
    "\n",
    "    return data"
   ]
  },
  {
   "cell_type": "markdown",
   "metadata": {},
   "source": [
    "#### The Cell Window Functions in `process_spectrum`"
   ]
  },
  {
   "cell_type": "code",
   "execution_count": 150,
   "metadata": {},
   "outputs": [],
   "source": [
    "# Cell Windows\n",
    "if cell_window == \"CaF2\":\n",
    "    spectrum = __CaF2(spectrum)\n",
    "    spectrum = __CaF2(spectrum)\n",
    "elif cell_window == \"ZnSe\":\n",
    "    spectrum = __ZnSe(spectrum)\n",
    "    spectrum = __ZnSe(spectrum)"
   ]
  },
  {
   "cell_type": "code",
   "execution_count": 151,
   "metadata": {},
   "outputs": [
    {
     "name": "stdout",
     "output_type": "stream",
     "text": [
      "The Spectrum after Step C: Cell Windows\n"
     ]
    },
    {
     "data": {
      "image/png": "[encoded data removed]",
      "text/plain": [
       "<Figure size 432x288 with 1 Axes>"
      ]
     },
     "metadata": {
      "needs_background": "light"
     },
     "output_type": "display_data"
    }
   ],
   "source": [
    "xs = []\n",
    "ys = []\n",
    "for key in spectrum:\n",
    "    xs.append(float(key))\n",
    "    ys.append(float(spectrum[key]))\n",
    "plt.plot(np.array(xs), np.array(ys), 'blue')\n",
    "print(\"The Spectrum after Step C: Cell Windows\")\n",
    "plt.show()"
   ]
  },
  {
   "cell_type": "markdown",
   "metadata": {},
   "source": [
    "## Step D: Detector Response Spectrum"
   ]
  },
  {
   "cell_type": "markdown",
   "metadata": {},
   "source": [
    "### The `__sapphire` Function"
   ]
  },
  {
   "cell_type": "code",
   "execution_count": 152,
   "metadata": {},
   "outputs": [],
   "source": [
    "def __sapphire(data): \n",
    "\n",
    "    if data == None:\n",
    "        return False\n",
    "\n",
    "    for x in data:\n",
    "        # Gets accurate graph with numpy float128 but throws runtime overflow error\n",
    "        # datapoint = Decimal(0.78928) / Decimal(1 + (11.9544 / (x / 1000)) ** -12.07226 ) ** (Decimal(6903.57039))\n",
    "        datapoint = np.float128(0.78928) / np.float128(1 + (11.9544 / (x / 1000)) ** -12.07226 ) ** (np.float128(6903.57039))\n",
    "        data[x] = datapoint * np.float128(data[x])\n",
    "    \n",
    "    return data"
   ]
  },
  {
   "cell_type": "markdown",
   "metadata": {},
   "source": [
    "### The Detector"
   ]
  },
  {
   "cell_type": "markdown",
   "metadata": {},
   "source": [
    "#### The `__MCT` Function"
   ]
  },
  {
   "cell_type": "code",
   "execution_count": 155,
   "metadata": {},
   "outputs": [],
   "source": [
    "def __MCT(data):  \n",
    "\n",
    "    if data == None:\n",
    "        return False\n",
    "\n",
    "    for x in data:\n",
    "        x_um = x / 1000\n",
    "        datapoint = (1.98748 * (10 ** 9)) + (2.10252 * (10 ** 10)) * (1 / (1 + math.exp( -(x_um - 20.15819) / 5.73688))) * \\\n",
    "            (1 - 1 / (1 + math.exp( -(x_um - 20.15819) / 1.11659))) + (1.3 * (10 ** 9)) / (2 * math.sqrt(math.pi / (4 * math.log(2)))) * \\\n",
    "                math.exp(-4 * math.log(2) * ((x_um - 18.6) ** 2) / (2 ** 2))\n",
    "        data[x] = datapoint * data[x]\n",
    "   \n",
    "    return data"
   ]
  },
  {
   "cell_type": "markdown",
   "metadata": {},
   "source": [
    "#### The `__InSb` Function"
   ]
  },
  {
   "cell_type": "code",
   "execution_count": 156,
   "metadata": {},
   "outputs": [],
   "source": [
    "def __InSb(data):\n",
    "\n",
    "    if data == None:\n",
    "        return False\n",
    "\n",
    "    for x in data:\n",
    "        x_um = x /1000\n",
    "        datapoint = 1.97163E11 * (1 / (1 + math.exp( -(x_um- 5.3939) / 1.6624))) * (1 - 1 / (1 + math.exp( -(x_um- 5.3939) / 0.11925))) + \\\n",
    "            (3.3e10) / (2.44977 * math.sqrt(math.pi / (4 * math.log(2)))) * math.exp(-4 * math.log(2) * ((x_um- 5) ** 2) / (2.44977 ** 2))\n",
    "        data[x] = datapoint * data[x]\n",
    "    \n",
    "    return data"
   ]
  },
  {
   "cell_type": "markdown",
   "metadata": {},
   "source": [
    "### The Step D Function in `process_spectrum`"
   ]
  },
  {
   "cell_type": "code",
   "execution_count": 157,
   "metadata": {},
   "outputs": [],
   "source": [
    "# ----- d.) detector response spectrum -----\n",
    "\n",
    "\n",
    "if detector == \"MCT\":\n",
    "    spectrum = __ZnSe(spectrum)\n",
    "    spectrum = __MCT(spectrum)\n",
    "elif detector == \"InSb\":\n",
    "    spectrum = __sapphire(spectrum)\n",
    "    spectrum = __InSb(spectrum)"
   ]
  },
  {
   "cell_type": "code",
   "execution_count": 158,
   "metadata": {},
   "outputs": [
    {
     "name": "stdout",
     "output_type": "stream",
     "text": [
      "The Spectrum after Step D: Detector\n"
     ]
    },
    {
     "data": {
      "image/png": "[encoded data removed]",
      "text/plain": [
       "<Figure size 432x288 with 1 Axes>"
      ]
     },
     "metadata": {
      "needs_background": "light"
     },
     "output_type": "display_data"
    }
   ],
   "source": [
    "xs = []\n",
    "ys = []\n",
    "for key in spectrum:\n",
    "    xs.append(float(key))\n",
    "    ys.append(float(spectrum[key]))\n",
    "plt.plot(np.array(xs), np.array(ys), 'blue')\n",
    "print(\"The Spectrum after Step D: Detector\")\n",
    "plt.show()"
   ]
  },
  {
   "cell_type": "markdown",
   "metadata": {},
   "source": [
    "## Exporting the Final Result\n",
    "All of our calcualtions are complete! Now, the `__exportData` function is called to translate our data into a `.ssv`, or Space SPearated File."
   ]
  },
  {
   "cell_type": "code",
   "execution_count": 159,
   "metadata": {},
   "outputs": [
    {
     "data": {
      "text/plain": [
       "True"
      ]
     },
     "execution_count": 159,
     "metadata": {},
     "output_type": "execute_result"
    }
   ],
   "source": [
    "__exportData(spectrum, 'calc_spectrum-%s-%s-processed'%(min_wavelen, max_wavelen))"
   ]
  },
  {
   "cell_type": "markdown",
   "metadata": {},
   "source": [
    "Now we can graph our final results! Click `Run All` to see the result of each step!"
   ]
  },
  {
   "cell_type": "code",
   "execution_count": 160,
   "metadata": {},
   "outputs": [
    {
     "name": "stdout",
     "output_type": "stream",
     "text": [
      "The Final Results\n"
     ]
    },
    {
     "data": {
      "image/png": "[encoded data removed]",
      "text/plain": [
       "<Figure size 432x288 with 1 Axes>"
      ]
     },
     "metadata": {
      "needs_background": "light"
     },
     "output_type": "display_data"
    }
   ],
   "source": [
    "xs = []\n",
    "ys = []\n",
    "for key in spectrum:\n",
    "    xs.append(float(key))\n",
    "    ys.append(float(spectrum[key]))\n",
    "plt.plot(np.array(xs), np.array(ys), 'blue')\n",
    "print(\"The Final Results\")\n",
    "plt.show()"
   ]
  }
 ],
 "metadata": {
  "kernelspec": {
   "display_name": "Python 3.8.10 64-bit",
   "language": "python",
   "name": "python3"
  },
  "language_info": {
   "codemirror_mode": {
    "name": "ipython",
    "version": 3
   },
   "file_extension": ".py",
   "mimetype": "text/x-python",
   "name": "python",
   "nbconvert_exporter": "python",
   "pygments_lexer": "ipython3",
   "version": "3.8.10"
  },
  "orig_nbformat": 4,
  "vscode": {
   "interpreter": {
    "hash": "916dbcbb3f70747c44a77c7bcd40155683ae19c65e1c03b4aa3499c5328201f1"
   }
  }
 },
 "nbformat": 4,
 "nbformat_minor": 2
}
